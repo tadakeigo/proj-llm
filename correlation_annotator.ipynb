{
 "cells": [
  {
   "cell_type": "code",
   "execution_count": 1,
   "id": "5216fa9d-4a45-421a-ad3a-3b51eaf53951",
   "metadata": {},
   "outputs": [],
   "source": [
    "import numpy as np\n",
    "import os\n",
    "import pandas as pd\n",
    "# import accelerate\n",
    "import torch\n",
    "from transformers import AutoTokenizer, AutoModelForCausalLM\n",
    "import matplotlib.pyplot as plt\n",
    "from tqdm import tqdm"
   ]
  },
  {
   "cell_type": "markdown",
   "id": "6887db00-ac3a-4428-afbd-52bf10323c22",
   "metadata": {},
   "source": [
    "## 前処理"
   ]
  },
  {
   "cell_type": "code",
   "execution_count": 2,
   "id": "3620d782-68a4-4ae1-8167-913717139f42",
   "metadata": {},
   "outputs": [],
   "source": [
    "data_dir = '/mount/nfs6/keigo-tada/yu_takagi_pro/preproc_annotation'"
   ]
  },
  {
   "cell_type": "code",
   "execution_count": 3,
   "id": "176af726-542c-4493-872c-dca4de021072",
   "metadata": {},
   "outputs": [],
   "source": [
    "#BigBangTheory1_run1のobjectアノテーションについて前処理\n",
    "bigban_run1_obj_en = os.path.join(data_dir, 'BigBangTheory1_run1_objectiveAnnot50chara_each1sec_en.txt')\n",
    "bigban_run1_obj_ja = os.path.join(data_dir, 'BigBangTheory1_run1_objectiveAnnot50chara_each1sec.txt')"
   ]
  },
  {
   "cell_type": "code",
   "execution_count": 4,
   "id": "77da75f0-1746-4fda-a54e-0fe0c73264c3",
   "metadata": {},
   "outputs": [],
   "source": [
    "#英語アノテーションをアノテータごとに分割\n",
    "with open(bigban_run1_obj_en, 'r', encoding='utf-8') as file:\n",
    "    lines = file.readlines()\n",
    "\n",
    "bigban_run1_obj_en_anno0 = []\n",
    "bigban_run1_obj_en_anno1 = []\n",
    "bigban_run1_obj_en_anno2 = []\n",
    "bigban_run1_obj_en_anno3 = []\n",
    "bigban_run1_obj_en_anno4 = []\n",
    "for line in lines:\n",
    "    line = line.replace('\\n', '').split('\\t')\n",
    "    for i in range(len(line)):\n",
    "        if i == 0:\n",
    "            bigban_run1_obj_en_anno0.append(line[i])\n",
    "        if i == 1:\n",
    "            bigban_run1_obj_en_anno1.append(line[i])\n",
    "        if i == 2:\n",
    "            bigban_run1_obj_en_anno2.append(line[i])\n",
    "        if i == 3:\n",
    "            bigban_run1_obj_en_anno3.append(line[i])\n",
    "        if i == 4:\n",
    "            bigban_run1_obj_en_anno4.append(line[i])\n",
    "#アノテータ番号の削除\n",
    "bigban_run1_obj_en_anno0 = bigban_run1_obj_en_anno0[1:]\n",
    "bigban_run1_obj_en_anno1 = bigban_run1_obj_en_anno1[1:]\n",
    "bigban_run1_obj_en_anno2 = bigban_run1_obj_en_anno2[1:]\n",
    "bigban_run1_obj_en_anno3 = bigban_run1_obj_en_anno3[1:]\n",
    "bigban_run1_obj_en_anno4 = bigban_run1_obj_en_anno4[1:]\n",
    "# # 結果\n",
    "# print(bigban_run1_obj_en_ano0)"
   ]
  },
  {
   "cell_type": "code",
   "execution_count": 5,
   "id": "e3ddb86b-2ec2-42bf-910c-4457ac619bd2",
   "metadata": {},
   "outputs": [],
   "source": [
    "#日本語アノテーションをアノテータごとに分割\n",
    "with open(bigban_run1_obj_ja, 'r', encoding='utf-8') as file:\n",
    "    lines = file.readlines()\n",
    "\n",
    "bigban_run1_obj_ja_anno0 = []\n",
    "bigban_run1_obj_ja_anno1 = []\n",
    "bigban_run1_obj_ja_anno2 = []\n",
    "bigban_run1_obj_ja_anno3 = []\n",
    "bigban_run1_obj_ja_anno4 = []\n",
    "for line in lines:\n",
    "    line = line.replace('\\n','').replace('aaa','').split('/')\n",
    "    for i in range(len(line)):\n",
    "        if i == 0:\n",
    "            bigban_run1_obj_ja_anno0.append(line[i][8:])\n",
    "        if i == 1:\n",
    "            bigban_run1_obj_ja_anno1.append(line[i])\n",
    "        if i == 2:\n",
    "            bigban_run1_obj_ja_anno2.append(line[i])\n",
    "        if i == 3:\n",
    "            bigban_run1_obj_ja_anno3.append(line[i])\n",
    "        if i == 4:\n",
    "            bigban_run1_obj_ja_anno4.append(line[i])\n",
    "# #結果\n",
    "# print(bigban_run1_obj_ja_anno0)"
   ]
  },
  {
   "cell_type": "markdown",
   "id": "8a01e7e4-f769-40b2-8e94-75ff5d1e92ef",
   "metadata": {},
   "source": [
    "## embbedingsの取得"
   ]
  },
  {
   "cell_type": "code",
   "execution_count": 6,
   "id": "ed864766-23cc-44af-a119-8dcce426138e",
   "metadata": {},
   "outputs": [],
   "source": [
    "#このパラメータでどのアノテータか選べばあとは動きます\n",
    "bigban_run1_obj_ja_anno = bigban_run1_obj_ja_anno0 #パラメータ ['bigban_run1_obj_ja_anno0', 'bigban_run1_obj_ja_anno1', 'bigban_run1_obj_ja_anno2', 'bigban_run1_obj_ja_anno3', 'bigban_run1_obj_ja_anno4']\n",
    "bigban_run1_obj_en_anno = bigban_run1_obj_en_anno0 #パラメータ ['bigban_run1_obj_en_anno0', 'bigban_run1_obj_en_anno1', 'bigban_run1_obj_en_anno2', 'bigban_run1_obj_en_anno3', 'bigban_run1_obj_en_anno4']"
   ]
  },
  {
   "cell_type": "code",
   "execution_count": 7,
   "id": "bd9a6409-a302-483e-8bcd-6edf4d8ec851",
   "metadata": {},
   "outputs": [
    {
     "data": {
      "application/vnd.jupyter.widget-view+json": {
       "model_id": "d718e12c9e2f447a947d74434bf8e27e",
       "version_major": 2,
       "version_minor": 0
      },
      "text/plain": [
       "Loading checkpoint shards:   0%|          | 0/3 [00:00<?, ?it/s]"
      ]
     },
     "metadata": {},
     "output_type": "display_data"
    },
    {
     "data": {
      "text/plain": [
       "LlamaForCausalLM(\n",
       "  (model): LlamaModel(\n",
       "    (embed_tokens): Embedding(97024, 5120, padding_idx=4)\n",
       "    (layers): ModuleList(\n",
       "      (0-39): 40 x LlamaDecoderLayer(\n",
       "        (self_attn): LlamaSdpaAttention(\n",
       "          (q_proj): Linear(in_features=5120, out_features=5120, bias=False)\n",
       "          (k_proj): Linear(in_features=5120, out_features=5120, bias=False)\n",
       "          (v_proj): Linear(in_features=5120, out_features=5120, bias=False)\n",
       "          (o_proj): Linear(in_features=5120, out_features=5120, bias=False)\n",
       "          (rotary_emb): LlamaRotaryEmbedding()\n",
       "        )\n",
       "        (mlp): LlamaMLP(\n",
       "          (gate_proj): Linear(in_features=5120, out_features=13824, bias=False)\n",
       "          (up_proj): Linear(in_features=5120, out_features=13824, bias=False)\n",
       "          (down_proj): Linear(in_features=13824, out_features=5120, bias=False)\n",
       "          (act_fn): SiLU()\n",
       "        )\n",
       "        (input_layernorm): LlamaRMSNorm()\n",
       "        (post_attention_layernorm): LlamaRMSNorm()\n",
       "      )\n",
       "    )\n",
       "    (norm): LlamaRMSNorm()\n",
       "  )\n",
       "  (lm_head): Linear(in_features=5120, out_features=97024, bias=False)\n",
       ")"
      ]
     },
     "execution_count": 7,
     "metadata": {},
     "output_type": "execute_result"
    }
   ],
   "source": [
    "#トーカナイザーとモデルの読み込み\n",
    "tokenizer = AutoTokenizer.from_pretrained(\"llm-jp/llm-jp-13b-v2.0\")\n",
    "model = AutoModelForCausalLM.from_pretrained(\"llm-jp/llm-jp-13b-v2.0\", torch_dtype=torch.bfloat16)\n",
    "device = torch.device('cuda')\n",
    "model.to(device)"
   ]
  },
  {
   "cell_type": "code",
   "execution_count": 8,
   "id": "7e189272-2c49-4be7-9728-0d8f81ba17bb",
   "metadata": {},
   "outputs": [],
   "source": [
    "def batch_inference(texts, tokenizer, model, device, batch_size, max_length):\n",
    "    \"\"\"\n",
    "    テキストをバッチサイズごとに処理し、embeddingsを生成する関数\n",
    "    \"\"\"\n",
    "    embeddings = []\n",
    "    num_texts = len(texts)\n",
    "    print(f\"Total number of texts: {num_texts}\")\n",
    "    \n",
    "    for i in range(0, num_texts, batch_size):\n",
    "        batch_texts = texts[i:i + batch_size]\n",
    "        print(f\"Processing batch {i // batch_size + 1} with {len(batch_texts)} texts\")\n",
    "        \n",
    "        # トークナイズ\n",
    "        prompts = tokenizer(batch_texts, return_tensors=\"pt\", padding='max_length', truncation=True, max_length=max_length)\n",
    "        prompts_ids = prompts.input_ids.to(device)\n",
    "\n",
    "        # # トークナイズされたデータの形状を確認\n",
    "        # print(f\"Shape of tokenized input_ids: {prompts_ids.shape}\")\n",
    "        \n",
    "        with torch.no_grad():  # 勾配計算を無効化してメモリ使用量を削減\n",
    "            outputs = model(prompts_ids, output_hidden_states=True)\n",
    "            embs = outputs.hidden_states\n",
    "\n",
    "        # # 出力の形状を確認\n",
    "        # print(f\"Shape of hidden_states[0]: {embs[0].shape}\")\n",
    "        \n",
    "        # バッチごとの埋め込みをリストに追加\n",
    "        for j in range(prompts_ids.size(0)):\n",
    "            emb_layers = []\n",
    "            for emb in embs:\n",
    "                emb_layers.append(emb[j].float().cpu().detach().numpy())  # float32にキャストしてからnumpyに変換\n",
    "            embeddings.append(emb_layers)\n",
    "        \n",
    "        # メモリ解放\n",
    "        del prompts_ids, outputs, embs\n",
    "        torch.cuda.empty_cache()\n",
    "    \n",
    "    return embeddings"
   ]
  },
  {
   "cell_type": "code",
   "execution_count": 9,
   "id": "466b5b69-b24e-49e9-ba9e-af89f9ac8f7f",
   "metadata": {},
   "outputs": [
    {
     "name": "stdout",
     "output_type": "stream",
     "text": [
      "Total number of texts: 747\n",
      "Processing batch 1 with 150 texts\n",
      "Processing batch 2 with 150 texts\n",
      "Processing batch 3 with 150 texts\n",
      "Processing batch 4 with 150 texts\n",
      "Processing batch 5 with 147 texts\n",
      "Total number of texts: 747\n",
      "Processing batch 1 with 150 texts\n",
      "Processing batch 2 with 150 texts\n",
      "Processing batch 3 with 150 texts\n",
      "Processing batch 4 with 150 texts\n",
      "Processing batch 5 with 147 texts\n"
     ]
    }
   ],
   "source": [
    "# embeddings生成\n",
    "embeddings_ja = batch_inference(bigban_run1_obj_ja_anno, tokenizer, model, 'cuda', batch_size=150, max_length=65)\n",
    "embeddings_en = batch_inference(bigban_run1_obj_en_anno, tokenizer, model, 'cuda', batch_size=150, max_length=65)"
   ]
  },
  {
   "cell_type": "code",
   "execution_count": 10,
   "id": "2ce9c14b-2801-4d26-9ab6-d092358a3fd4",
   "metadata": {},
   "outputs": [],
   "source": [
    "# print(model.config)"
   ]
  },
  {
   "cell_type": "code",
   "execution_count": 11,
   "id": "4b7ff1be-b295-4a1e-8ee0-d63c694adfd1",
   "metadata": {},
   "outputs": [],
   "source": [
    "# # 結果の表示\n",
    "# print(f\"Total number of embeddings_ja: {len(embeddings_ja)}\")\n",
    "# for idx, emb in enumerate(embeddings_ja):  \n",
    "#     print(f\"Embedding_ja for text {idx + 1}: {emb[5].shape}\")"
   ]
  },
  {
   "cell_type": "code",
   "execution_count": 12,
   "id": "7f9b870d-95e0-45b1-85f4-2fb326f30610",
   "metadata": {},
   "outputs": [],
   "source": [
    "# # 結果の表示\n",
    "# print(f\"Total number of embeddings_en: {len(embeddings_en)}\")\n",
    "# for idx, emb in enumerate(embeddings_en):  \n",
    "#     print(f\"Embedding_en for text {idx + 1}: {emb[5].shape}\")"
   ]
  },
  {
   "cell_type": "markdown",
   "id": "16765a4e-3017-4dd4-ae3a-d829bffe01a9",
   "metadata": {},
   "source": [
    "## 解析"
   ]
  },
  {
   "cell_type": "code",
   "execution_count": 13,
   "id": "ef93294d-f016-4f41-a1f3-7bca11717ab1",
   "metadata": {},
   "outputs": [],
   "source": [
    "def flatten_embeddings(embeddings):\n",
    "    \"\"\"\n",
    "    各埋め込みベクトルをフラット化する関数\n",
    "    \"\"\"\n",
    "    flattened = []\n",
    "    for emb in tqdm(embeddings):\n",
    "        flattened_layer = []\n",
    "        for layer in emb:\n",
    "            flattened_layer.append(layer.flatten())\n",
    "        flattened.append(flattened_layer)\n",
    "    return flattened\n",
    "\n",
    "def calculate_layerwise_correlations(embeddings_ja, embeddings_en):\n",
    "    \"\"\"\n",
    "    層ごとの埋め込みベクトルの相関係数を計算する関数\n",
    "    \"\"\"\n",
    "    num_layers = len(embeddings_ja[0])\n",
    "    correlations = []\n",
    "\n",
    "    # フラット化された埋め込みベクトル\n",
    "    embeddings_ja_flat = flatten_embeddings(embeddings_ja)\n",
    "    embeddings_en_flat = flatten_embeddings(embeddings_en)\n",
    "\n",
    "    for layer_idx in tqdm(range(num_layers)):\n",
    "        layer_ja = np.array([emb[layer_idx] for emb in embeddings_ja_flat])\n",
    "        layer_en = np.array([emb[layer_idx] for emb in embeddings_en_flat])\n",
    "        \n",
    "        # 各層の全テキストについての平均ベクトルを計算\n",
    "        mean_ja = np.mean(layer_ja, axis=0)\n",
    "        mean_en = np.mean(layer_en, axis=0)\n",
    "        \n",
    "        # 平均ベクトルの相関係数を計算\n",
    "        correlation = np.corrcoef(mean_ja, mean_en)[0, 1]\n",
    "        correlations.append(correlation)\n",
    "\n",
    "    return correlations"
   ]
  },
  {
   "cell_type": "code",
   "execution_count": 14,
   "id": "ccdfc84b-fc58-4b95-9209-ccf7d951b425",
   "metadata": {},
   "outputs": [
    {
     "name": "stderr",
     "output_type": "stream",
     "text": [
      "100%|█████████████████████████████████████████| 747/747 [00:13<00:00, 55.49it/s]\n",
      "100%|█████████████████████████████████████████| 747/747 [00:13<00:00, 55.67it/s]\n",
      "100%|███████████████████████████████████████████| 41/41 [00:16<00:00,  2.55it/s]\n"
     ]
    }
   ],
   "source": [
    "# 相関係数の計算\n",
    "layerwise_correlations = calculate_layerwise_correlations(embeddings_ja, embeddings_en)\n",
    "\n",
    "# # 結果の表示\n",
    "# for layer_idx, correlation in enumerate(layerwise_correlations):\n",
    "#     print(f\"Layer {layer_idx + 1} correlation: {correlation:.4f}\")"
   ]
  },
  {
   "cell_type": "code",
   "execution_count": 15,
   "id": "f563dabd-8eea-48cb-b949-1adbe6539626",
   "metadata": {},
   "outputs": [
    {
     "data": {
      "image/png": "[encoded data removed]",
      "text/plain": [
       "<Figure size 1000x600 with 1 Axes>"
      ]
     },
     "metadata": {},
     "output_type": "display_data"
    }
   ],
   "source": [
    "# 最大の相関係数を持つインデックスを特定\n",
    "max_corr_idx = np.argmax(layerwise_correlations)\n",
    "max_corr_value = layerwise_correlations[max_corr_idx]\n",
    "\n",
    "# 棒グラフの色を設定\n",
    "colors = ['b' if i != max_corr_idx else 'r' for i in range(len(layerwise_correlations))]\n",
    "\n",
    "# 棒グラフの描画\n",
    "plt.figure(figsize=(10, 6))\n",
    "bars = plt.bar(range(1, len(layerwise_correlations) + 1), layerwise_correlations, color=colors)\n",
    "plt.xlabel('Layer')\n",
    "plt.ylabel('Correlation Coefficient')\n",
    "plt.title(f'Correlation Coefficients by Layer (annotation_)')\n",
    "plt.xticks(range(1, len(layerwise_correlations) + 1))\n",
    "plt.grid(True)\n",
    "\n",
    "# 最大の相関係数の棒の上に値を表示\n",
    "plt.text(max_corr_idx + 1, max_corr_value, f'{max_corr_value:.4f}', ha='center', va='bottom', color='red')\n",
    "\n",
    "plt.show()"
   ]
  },
  {
   "cell_type": "code",
   "execution_count": null,
   "id": "fc69ddf8-fc51-4249-bdc8-54c761f2c4c7",
   "metadata": {},
   "outputs": [],
   "source": []
  }
 ],
 "metadata": {
  "kernelspec": {
   "display_name": "Python 3 (ipykernel)",
   "language": "python",
   "name": "python3"
  },
  "language_info": {
   "codemirror_mode": {
    "name": "ipython",
    "version": 3
   },
   "file_extension": ".py",
   "mimetype": "text/x-python",
   "name": "python",
   "nbconvert_exporter": "python",
   "pygments_lexer": "ipython3",
   "version": "3.12.3"
  }
 },
 "nbformat": 4,
 "nbformat_minor": 5
}
